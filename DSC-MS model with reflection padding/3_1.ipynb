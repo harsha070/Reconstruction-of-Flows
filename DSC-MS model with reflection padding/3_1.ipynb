{
  "nbformat": 4,
  "nbformat_minor": 0,
  "metadata": {
    "colab": {
      "name": "3_1.ipynb",
      "version": "0.3.2",
      "provenance": [],
      "collapsed_sections": []
    },
    "kernelspec": {
      "name": "python3",
      "display_name": "Python 3"
    },
    "accelerator": "GPU"
  },
  "cells": [
    {
      "cell_type": "code",
      "metadata": {
        "id": "rjy5-2ZPP5iz",
        "colab_type": "code",
        "colab": {}
      },
      "source": [
        "'''\n",
        "Input: 32x32 mesh simulation\n",
        "Target: 64x64 mesh simulation\n",
        "Downsampled skip connection multi scale model with reflection padding\n",
        "'''"
      ],
      "execution_count": 0,
      "outputs": []
    },
    {
      "cell_type": "code",
      "metadata": {
        "colab_type": "code",
        "id": "m9uG9Fx7QOqQ",
        "colab": {}
      },
      "source": [
        "import cv2\n",
        "import torch\n",
        "import torch.nn as nn\n",
        "import torchvision.transforms as transforms\n",
        "from torchvision import models\n",
        "import torch.optim as optim\n",
        "import matplotlib.pyplot as plt\n",
        "import numpy as np\n",
        "from tqdm import tqdm_notebook as tqdm\n",
        "from copy import deepcopy\n",
        "import torchvision\n",
        "import torch.utils.data\n",
        "import torch.nn.functional as F\n",
        "import torch.nn.init as init"
      ],
      "execution_count": 0,
      "outputs": []
    },
    {
      "cell_type": "code",
      "metadata": {
        "colab_type": "code",
        "id": "brF1syqtQOqg",
        "colab": {}
      },
      "source": [
        "#Reading training data\n",
        "train_y = []\n",
        "train_x = []\n",
        "\n",
        "for i in range(1, 101, 1):\n",
        "    temperature = \"{:.2f}\".format(0.01 * i)\n",
        "    \n",
        "    file_path = '32_u_' + str(temperature) + '.txt'\n",
        "    u = np.loadtxt(file_path)\n",
        "    \n",
        "    file_path = '32_v_' + str(temperature) + '.txt'\n",
        "    v = np.loadtxt(file_path)\n",
        "    \n",
        "    file_path = '32_vel_' + str(temperature) + '.txt'\n",
        "    vel = np.loadtxt(file_path)\n",
        "    \n",
        "    file_path = '32_pressure_' + str(temperature) + '.txt'\n",
        "    pressure = np.loadtxt(file_path)\n",
        "    \n",
        "       \n",
        "    x_input = [u,v,pressure]\n",
        "    train_x.append(x_input)\n",
        "\n",
        "    \n",
        "    file_path = '64_u_' + str(temperature) + '.txt'\n",
        "    u = np.loadtxt(file_path)\n",
        "    \n",
        "    file_path = '64_v_' + str(temperature) + '.txt'\n",
        "    v = np.loadtxt(file_path)\n",
        "    \n",
        "    file_path = '64_vel_' + str(temperature) + '.txt'\n",
        "    vel = np.loadtxt(file_path)\n",
        "    \n",
        "    file_path = '64_pressure_' + str(temperature) + '.txt'\n",
        "    pressure = np.loadtxt(file_path)\n",
        "    \n",
        "    y_output = [u,v,pressure]\n",
        "    train_y.append(y_output)"
      ],
      "execution_count": 0,
      "outputs": []
    },
    {
      "cell_type": "code",
      "metadata": {
        "colab_type": "code",
        "id": "-rp2FDXZQOqk",
        "colab": {}
      },
      "source": [
        "#Reading validation data\n",
        "\n",
        "val_y = []\n",
        "val_x = []\n",
        "\n",
        "for i in range(1, 20, 2):\n",
        "    temperature = 0.05 * i + 0.005\n",
        "    temperature = \"{:.3f}\".format(temperature)\n",
        "    \n",
        "    file_path = '32_u_' + str(temperature) + '.txt'\n",
        "    u = np.loadtxt(file_path)\n",
        "    \n",
        "    file_path = '32_v_' + str(temperature) + '.txt'\n",
        "    v = np.loadtxt(file_path)\n",
        "    \n",
        "    file_path = '32_vel_' + str(temperature) + '.txt'\n",
        "    vel = np.loadtxt(file_path)\n",
        "    \n",
        "    file_path = '32_pressure_' + str(temperature) + '.txt'\n",
        "    pressure = np.loadtxt(file_path)\n",
        "    \n",
        "    x_input = [u,v,pressure]\n",
        "    val_x.append(x_input)\n",
        "\n",
        "    \n",
        "    file_path = '64_u_' + str(temperature) + '.txt'\n",
        "    u = np.loadtxt(file_path)\n",
        "    \n",
        "    file_path = '64_v_' + str(temperature) + '.txt'\n",
        "    v = np.loadtxt(file_path)\n",
        "    \n",
        "    file_path = '64_vel_' + str(temperature) + '.txt'\n",
        "    vel = np.loadtxt(file_path)\n",
        "    \n",
        "    file_path = '64_pressure_' + str(temperature) + '.txt'\n",
        "    pressure = np.loadtxt(file_path)\n",
        "    \n",
        "    y_output = [u,v,pressure]\n",
        "    val_y.append(y_output)\n",
        "    \n",
        "    \n",
        "    temperature = 0.05 * i - 0.005\n",
        "    temperature = \"{:.3f}\".format(temperature)\n",
        "    \n",
        "    file_path = '32_u_' + str(temperature) + '.txt'\n",
        "    u = np.loadtxt(file_path)\n",
        "    \n",
        "    file_path = '32_v_' + str(temperature) + '.txt'\n",
        "    v = np.loadtxt(file_path)\n",
        "    \n",
        "    file_path = '32_vel_' + str(temperature) + '.txt'\n",
        "    vel = np.loadtxt(file_path)\n",
        "    \n",
        "    file_path = '32_pressure_' + str(temperature) + '.txt'\n",
        "    pressure = np.loadtxt(file_path)\n",
        "    \n",
        "   \n",
        "    x_input = [u,v,pressure]\n",
        "    val_x.append(x_input)\n",
        "\n",
        "    \n",
        "    file_path = '64_u_' + str(temperature) + '.txt'\n",
        "    u = np.loadtxt(file_path)\n",
        "    \n",
        "    file_path = '64_v_' + str(temperature) + '.txt'\n",
        "    v = np.loadtxt(file_path)\n",
        "    \n",
        "    file_path = '64_vel_' + str(temperature) + '.txt'\n",
        "    vel = np.loadtxt(file_path)\n",
        "    \n",
        "    file_path = '64_pressure_' + str(temperature) + '.txt'\n",
        "    pressure = np.loadtxt(file_path)\n",
        "    \n",
        "    y_output = [u,v,pressure]\n",
        "    val_y.append(y_output)"
      ],
      "execution_count": 0,
      "outputs": []
    },
    {
      "cell_type": "code",
      "metadata": {
        "colab_type": "code",
        "id": "8A5x_KIEQOqp",
        "colab": {}
      },
      "source": [
        "def show(image):\n",
        "    plt.imshow(image, vmin=np.amin(image), vmax=np.amax(image), cmap='hsv')\n",
        "    plt.axis('off')\n",
        "    plt.show()"
      ],
      "execution_count": 0,
      "outputs": []
    },
    {
      "cell_type": "code",
      "metadata": {
        "colab_type": "code",
        "id": "D3t9NVKHQOqt",
        "colab": {}
      },
      "source": [
        "from torch.utils.data import Dataset\n",
        "class dataset(Dataset):\n",
        "    def __init__(self, train_x, train_y):\n",
        "        self.x = train_x\n",
        "        self.y = train_y\n",
        "    def __len__(self):\n",
        "        return len(self.x)\n",
        "    def __getitem__(self, index):\n",
        "        return self.x[index], self.y[index]"
      ],
      "execution_count": 0,
      "outputs": []
    },
    {
      "cell_type": "code",
      "metadata": {
        "id": "ByD3Z4ip-njo",
        "colab_type": "code",
        "colab": {}
      },
      "source": [
        "train_data_x = []\n",
        "val_data_x = []\n",
        "\n",
        "for i in range(len(train_x)):\n",
        "    u = cv2.resize(np.asarray(train_x[i][0]), dsize=(64, 64), interpolation=cv2.INTER_NEAREST)\n",
        "    v = cv2.resize(np.asarray(train_x[i][1]), dsize=(64, 64), interpolation=cv2.INTER_NEAREST)\n",
        "    pressure = cv2.resize(np.asarray(train_x[i][2]), dsize=(64, 64), interpolation=cv2.INTER_NEAREST)\n",
        "    \n",
        "    train_data_x.append(np.asarray([u,v,pressure]))\n",
        "    \n",
        "for i in range(len(val_x)):\n",
        "    u = cv2.resize(np.asarray(val_x[i][0]), dsize=(64, 64), interpolation=cv2.INTER_NEAREST)\n",
        "    v = cv2.resize(np.asarray(val_x[i][1]), dsize=(64, 64), interpolation=cv2.INTER_NEAREST)\n",
        "    pressure = cv2.resize(np.asarray(val_x[i][2]), dsize=(64, 64), interpolation=cv2.INTER_NEAREST)\n",
        "    \n",
        "    val_data_x.append(np.asarray([u,v,pressure]))"
      ],
      "execution_count": 0,
      "outputs": []
    },
    {
      "cell_type": "code",
      "metadata": {
        "id": "KuyMjl4ZaTP7",
        "colab_type": "code",
        "colab": {}
      },
      "source": [
        "#Resize from 64x64 to 104x104\n",
        "new_train_x = []\n",
        "new_val_x = []    \n",
        "    \n",
        "for i in range(len(train_data_x)):\n",
        "    data_point = []\n",
        "    for channel in range(3):\n",
        "        x = train_data_x[i][channel]\n",
        "        z = [[0.0 for j in range(104)] for k in range(104)]\n",
        "        for j in range(20,84,1):\n",
        "          for k in range(20,84,1):\n",
        "            z[j][k] = x[j-20][k-20]\n",
        "\n",
        "        for j in range(20):\n",
        "          for k in range(20):\n",
        "            z[j][k] = z[39-j][39-k]\n",
        "            \n",
        "        for j in range(84,104,1):\n",
        "          for k in range(20):\n",
        "            z[j][k] = z[167-j][39-k]\n",
        "            \n",
        "        for j in range(20):\n",
        "          for k in range(84,104,1):\n",
        "            z[j][k] = z[39-j][167-k]\n",
        "            \n",
        "        for j in range(84,104,1):\n",
        "          for k in range(84,104,1):\n",
        "            z[j][k] = z[167-j][167-k]\n",
        "\n",
        "        for j in range(20):\n",
        "          for k in range(20,84,1):\n",
        "            z[j][k] = z[39-j][k]\n",
        "            \n",
        "        for j in range(84,104,1):\n",
        "          for k in range(20,84,1):\n",
        "            z[j][k] = z[167-j][k]\n",
        "\n",
        "        for j in range(20,84,1):\n",
        "          for k in range(20):\n",
        "            z[j][k] = z[j][39-k]\n",
        "            \n",
        "        for j in range(20,84,1):\n",
        "          for k in range(84,104,1):\n",
        "            z[j][k] = z[j][167-k]\n",
        "            \n",
        "        data_point.append(z)\n",
        "    new_train_x.append(np.asarray(data_point))  \n",
        "  \n",
        "for i in range(len(val_data_x)):\n",
        "    data_point = []\n",
        "    for channel in range(3):\n",
        "        x = val_data_x[i][channel]\n",
        "        z = [[0.0 for j in range(104)] for k in range(104)]\n",
        "        for j in range(20,84,1):\n",
        "          for k in range(20,84,1):\n",
        "            z[j][k] = x[j-20][k-20]\n",
        "\n",
        "        for j in range(20):\n",
        "          for k in range(20):\n",
        "            z[j][k] = z[39-j][39-k]\n",
        "            \n",
        "        for j in range(84,104,1):\n",
        "          for k in range(20):\n",
        "            z[j][k] = z[167-j][39-k]\n",
        "            \n",
        "        for j in range(20):\n",
        "          for k in range(84,104,1):\n",
        "            z[j][k] = z[39-j][167-k]\n",
        "            \n",
        "        for j in range(84,104,1):\n",
        "          for k in range(84,104,1):\n",
        "            z[j][k] = z[167-j][167-k]\n",
        "\n",
        "        for j in range(20):\n",
        "          for k in range(20,84,1):\n",
        "            z[j][k] = z[39-j][k]\n",
        "            \n",
        "        for j in range(84,104,1):\n",
        "          for k in range(20,84,1):\n",
        "            z[j][k] = z[167-j][k]\n",
        "\n",
        "        for j in range(20,84,1):\n",
        "          for k in range(20):\n",
        "            z[j][k] = z[j][39-k]\n",
        "            \n",
        "        for j in range(20,84,1):\n",
        "          for k in range(84,104,1):\n",
        "            z[j][k] = z[j][167-k]\n",
        "            \n",
        "        data_point.append(z)\n",
        "    new_val_x.append(np.asarray(data_point))    "
      ],
      "execution_count": 0,
      "outputs": []
    },
    {
      "cell_type": "code",
      "metadata": {
        "id": "2ni4uaB7ZnEx",
        "colab_type": "code",
        "colab": {}
      },
      "source": [
        "train_data_x = np.asarray(train_data_x)    \n",
        "train_y = np.asarray(train_y)    \n",
        "val_data_x = np.asarray(val_data_x)    \n",
        "val_y = np.asarray(val_y)    \n",
        "    \n",
        "train_data = dataset(new_train_x, train_y)\n",
        "val_data = dataset(new_val_x, val_y)"
      ],
      "execution_count": 0,
      "outputs": []
    },
    {
      "cell_type": "code",
      "metadata": {
        "id": "R5fmpbHM-njm",
        "colab_type": "code",
        "colab": {}
      },
      "source": [
        "activate = torch.nn.Tanh()\n",
        "tanh = torch.nn.Tanh()\n",
        "\n",
        "class Net(nn.Module):\n",
        "    def __init__(self):\n",
        "        super(Net, self).__init__()\n",
        "        \n",
        "        self.bn0 = nn.BatchNorm2d(num_features = 3)\n",
        "        self.conv1 = nn.Conv2d(in_channels = 3, out_channels = 3, kernel_size = 2, stride = 2, padding = 0)\n",
        "        self.conv2 = nn.Conv2d(in_channels = 3, out_channels = 3, kernel_size = 2, stride = 2, padding = 0)\n",
        "        self.conv3 = nn.Conv2d(in_channels = 3, out_channels = 3, kernel_size = 2, stride = 2, padding = 0)\n",
        "        self.conv4 = nn.ConvTranspose2d(in_channels = 3, out_channels = 3, kernel_size = 4, stride = 2, padding = 1, output_padding=0)\n",
        "        self.conv5 = nn.ConvTranspose2d(in_channels = 3, out_channels = 3, kernel_size = 4, stride = 2, padding = 1, output_padding=0)\n",
        "        self.conv6 = nn.ConvTranspose2d(in_channels = 3, out_channels = 3, kernel_size = 4, stride = 2, padding = 1, output_padding=0)\n",
        "        \n",
        "        #kernel_size 13\n",
        "        self.bn7 = nn.BatchNorm2d(num_features = 3)\n",
        "        self.conv7 = nn.Conv2d(in_channels = 3, out_channels = 4, kernel_size = 13, stride = 1, padding = 0)\n",
        "        self.bn8 = nn.BatchNorm2d(num_features = 4)\n",
        "        self.conv8 = nn.Conv2d(in_channels = 4, out_channels = 8, kernel_size = 13, stride = 1, padding = 0)\n",
        "        #kernel_size 9\n",
        "        self.bn9 = nn.BatchNorm2d(num_features = 3)\n",
        "        self.conv9  = nn.Conv2d(in_channels = 3, out_channels = 4, kernel_size = 9, stride = 1, padding = 0)\n",
        "        self.bn10 = nn.BatchNorm2d(num_features = 4)\n",
        "        self.conv10 = nn.Conv2d(in_channels = 4, out_channels = 8, kernel_size = 9, stride = 1, padding = 0)\n",
        "        #kernel_size 5\n",
        "        self.bn11 = nn.BatchNorm2d(num_features = 3)\n",
        "        self.conv11 = nn.Conv2d(in_channels = 3, out_channels = 4, kernel_size = 5, stride = 1, padding = 0)\n",
        "        self.bn12 = nn.BatchNorm2d(num_features = 4)\n",
        "        self.conv12 = nn.Conv2d(in_channels = 4, out_channels = 8, kernel_size = 5, stride = 1, padding = 0)\n",
        "        #last conv layer\n",
        "        self.bn13 = nn.BatchNorm2d(num_features = 24)\n",
        "        self.conv13 = nn.Conv2d(in_channels = 24, out_channels = 12, kernel_size = 7, stride = 1, padding = 0)\n",
        "        self.bn14 = nn.BatchNorm2d(num_features = 12)\n",
        "        self.conv14 = nn.Conv2d(in_channels = 12, out_channels =  3, kernel_size = 5, stride = 1, padding = 0)\n",
        "        #Final output layer\n",
        "        self.bn_out = nn.BatchNorm2d(num_features = 3)\n",
        "        self.out = nn.Conv2d(in_channels = 3, out_channels = 3, kernel_size = 3, stride = 1, padding = 0)\n",
        "        \n",
        "    def forward(self, x_64):\n",
        "        \n",
        "        x_32 = activate(self.conv1(x_64))\n",
        "        x_16 = activate(self.conv2(x_32))\n",
        "        x_8  = activate(self.conv3(x_16))        \n",
        "        y_16 = activate(self.conv4(x_8))+x_16\n",
        "        y_32 = activate(self.conv5(y_16))+x_32\n",
        "        y_64 = activate(self.conv6(y_32))+x_64\n",
        "        \n",
        "        z_13 = self.bn7(x_64)\n",
        "        z_13 = self.conv7(z_13)\n",
        "        z_13 = activate(z_13)\n",
        "        z_13 = self.bn8(z_13)\n",
        "        z_13 = self.conv8(z_13)\n",
        "        z_13 = activate(z_13)\n",
        "        \n",
        "        z_9 = self.bn9(x_64)\n",
        "        z_9 = self.conv9(z_9)\n",
        "        z_9 = activate(z_9)\n",
        "        z_9 = self.bn10(z_9)\n",
        "        z_9 = self.conv10(z_9)\n",
        "        z_9 = activate(z_9)\n",
        "        \n",
        "        z_5 = self.bn11(x_64)\n",
        "        z_5 = self.conv11(z_5)\n",
        "        z_5 = activate(z_5)\n",
        "        z_5 = self.bn12(z_5)\n",
        "        z_5 = self.conv12(z_5)\n",
        "        z_5 = activate(z_5)\n",
        "        \n",
        "        z_5 = z_5.narrow(2,10,76)\n",
        "        z_5 = z_5.narrow(3,10,76)\n",
        "        \n",
        "        z_9 = z_9.narrow(2,6,76)\n",
        "        z_9 = z_9.narrow(3,6,76)\n",
        "        \n",
        "        z_13 = z_13.narrow(2,2,76)\n",
        "        z_13 = z_13.narrow(3,2,76)\n",
        "        \n",
        "        z = torch.cat((z_13, z_9, z_5), 1)\n",
        "        z = self.bn13(z)\n",
        "        z = self.conv13(z)\n",
        "        z = activate(z)\n",
        "        z = self.bn14(z)\n",
        "        z = self.conv14(z)\n",
        "        z = activate(z)\n",
        "        \n",
        "        y_64 = y_64.narrow(2,19,66)\n",
        "        y_64 = y_64.narrow(3,19,66)\n",
        "        \n",
        "        x_64 = x_64.narrow(2,20,64)\n",
        "        x_64 = x_64.narrow(3,20,64)\n",
        "        \n",
        "        z = z+y_64\n",
        "        z = self.bn_out(z)\n",
        "        z = self.out(z)\n",
        "        z = tanh(z)+x_64.resize_(1,3,64,64)\n",
        "       \n",
        "        return z"
      ],
      "execution_count": 0,
      "outputs": []
    },
    {
      "cell_type": "code",
      "metadata": {
        "id": "YndTHQfV-njr",
        "colab_type": "code",
        "colab": {}
      },
      "source": [
        "def weight_init(m):\n",
        "    if isinstance(m, nn.Conv1d):\n",
        "        init.normal_(m.weight.data)\n",
        "        if m.bias is not None:\n",
        "            init.normal_(m.bias.data)\n",
        "    elif isinstance(m, nn.Conv2d):\n",
        "        init.xavier_normal_(m.weight.data)\n",
        "        if m.bias is not None:\n",
        "            init.normal_(m.bias.data)\n",
        "    elif isinstance(m, nn.Conv3d):\n",
        "        init.xavier_normal_(m.weight.data)\n",
        "        if m.bias is not None:\n",
        "            init.normal_(m.bias.data)\n",
        "    elif isinstance(m, nn.ConvTranspose1d):\n",
        "        init.normal_(m.weight.data)\n",
        "        if m.bias is not None:\n",
        "            init.normal_(m.bias.data)\n",
        "    elif isinstance(m, nn.ConvTranspose2d):\n",
        "        init.xavier_normal_(m.weight.data)\n",
        "        if m.bias is not None:\n",
        "            init.normal_(m.bias.data)\n",
        "    elif isinstance(m, nn.ConvTranspose3d):\n",
        "        init.xavier_normal_(m.weight.data)\n",
        "        if m.bias is not None:\n",
        "            init.normal_(m.bias.data)\n",
        "    elif isinstance(m, nn.BatchNorm1d):\n",
        "        init.normal_(m.weight.data, mean=1, std=0.02)\n",
        "        init.constant_(m.bias.data, 0)\n",
        "    elif isinstance(m, nn.BatchNorm2d):\n",
        "        init.normal_(m.weight.data, mean=1, std=0.02)\n",
        "        init.constant_(m.bias.data, 0)\n",
        "    elif isinstance(m, nn.BatchNorm3d):\n",
        "        init.normal_(m.weight.data, mean=1, std=0.02)\n",
        "        init.constant_(m.bias.data, 0)\n",
        "    elif isinstance(m, nn.Linear):\n",
        "        init.xavier_normal_(m.weight.data)\n",
        "        init.normal_(m.bias.data)\n",
        "    elif isinstance(m, nn.LSTM):\n",
        "        for param in m.parameters():\n",
        "            if len(param.shape) >= 2:\n",
        "                init.orthogonal_(param.data)\n",
        "            else:\n",
        "                init.normal_(param.data)\n",
        "    elif isinstance(m, nn.LSTMCell):\n",
        "        for param in m.parameters():\n",
        "            if len(param.shape) >= 2:\n",
        "                init.orthogonal_(param.data)\n",
        "            else:\n",
        "                init.normal_(param.data)\n",
        "    elif isinstance(m, nn.GRU):\n",
        "        for param in m.parameters():\n",
        "            if len(param.shape) >= 2:\n",
        "                init.orthogonal_(param.data)\n",
        "            else:\n",
        "                init.normal_(param.data)\n",
        "    elif isinstance(m, nn.GRUCell):\n",
        "        for param in m.parameters():\n",
        "            if len(param.shape) >= 2:\n",
        "                init.orthogonal_(param.data)\n",
        "            else:\n",
        "                init.normal_(param.data)"
      ],
      "execution_count": 0,
      "outputs": []
    },
    {
      "cell_type": "code",
      "metadata": {
        "id": "Vhliq7HM-njv",
        "colab_type": "code",
        "colab": {}
      },
      "source": [
        "train_loader = torch.utils.data.DataLoader(train_data, batch_size = 1, shuffle = True)\n",
        "test_loader = torch.utils.data.DataLoader(val_data, batch_size = 1, shuffle = False)"
      ],
      "execution_count": 0,
      "outputs": []
    },
    {
      "cell_type": "code",
      "metadata": {
        "id": "pg8z1dgM-njz",
        "colab_type": "code",
        "colab": {}
      },
      "source": [
        "criterion = nn.MSELoss()\n",
        "net = Net()\n",
        "net.apply(weight_init)\n",
        "net = net.double()\n",
        "net = net.cuda()\n",
        "train_losses = []\n",
        "val_losses = []"
      ],
      "execution_count": 0,
      "outputs": []
    },
    {
      "cell_type": "code",
      "metadata": {
        "id": "2pU6GEBqbOeT",
        "colab_type": "code",
        "colab": {}
      },
      "source": [
        "learning_rate = 0.05\n",
        "optimizer = optim.SGD(net.parameters(), lr = learning_rate, momentum = 0.9)\n",
        "#optimizer = optim.Adam(net.parameters(), lr = learning_rate, weight_decay = 1e-5)"
      ],
      "execution_count": 0,
      "outputs": []
    },
    {
      "cell_type": "code",
      "metadata": {
        "id": "e7sCQnRn-nj4",
        "colab_type": "code",
        "outputId": "546d31a1-6867-40f9-9321-1d854fc342b1",
        "colab": {
          "base_uri": "https://localhost:8080/",
          "height": 5558
        }
      },
      "source": [
        "import matplotlib.pyplot as plt\n",
        "\n",
        "running_loss = 0.0\n",
        "num_epochs = 1201\n",
        "\n",
        "for epoch in range(num_epochs):\n",
        "    running_loss = 0.0\n",
        "    validation_loss = 0.0\n",
        "    #print(\"Epoch: \",epoch+1)\n",
        "    for i, dat in enumerate((train_loader), 0):\n",
        "        inputs, labels = dat\n",
        "        inputs = inputs.resize_(1, 3, 104, 104)\n",
        "        labels = labels.resize_(1, 3, 64, 64)\n",
        "        if torch.cuda.is_available():\n",
        "            inputs, labels = inputs.cuda(), labels.cuda()\n",
        "        optimizer.zero_grad()\n",
        "        outputs = net(inputs)\n",
        "        if(i==9 and epoch%25==0):\n",
        "            show(inputs[0][0].cpu().detach().numpy())\n",
        "            show(outputs[0][0].cpu().detach().numpy())\n",
        "            show(labels[0][0].cpu().detach().numpy())\n",
        "        loss = criterion(outputs, labels)\n",
        "        loss.backward()\n",
        "        optimizer.step()\n",
        "        running_loss += loss.item()\n",
        "    for i, dat in enumerate((test_loader), 0):\n",
        "        inputs, labels = dat\n",
        "        inputs = inputs.resize_(1, 3, 104, 104)\n",
        "        labels = labels.resize_(1, 3, 64, 64)\n",
        "        if torch.cuda.is_available():\n",
        "            inputs, labels = inputs.cuda(), labels.cuda()\n",
        "        optimizer.zero_grad()\n",
        "        outputs = net(inputs)\n",
        "        loss = criterion(outputs, labels)\n",
        "        optimizer.step()\n",
        "        validation_loss += loss.item()\n",
        "    running_loss/=100.0\n",
        "    validation_loss/=20.0\n",
        "    print(\"Epoch: \",epoch+1,\" running_loss: \",running_loss*100, \"validation_loss: \",validation_loss*100.0)\n",
        "    train_losses.append(running_loss)\n",
        "    val_losses.append(validation_loss)"
      ],
      "execution_count": 0,
      "outputs": [
        {
          "output_type": "display_data",
          "data": {
            "image/png": "[encoded data removed]",
            "text/plain": [
              "<Figure size 576x396 with 1 Axes>"
            ]
          },
          "metadata": {
            "tags": []
          }
        },
        {
          "output_type": "display_data",
          "data": {
            "image/png": "[encoded data removed]",
            "text/plain": [
              "<Figure size 576x396 with 1 Axes>"
            ]
          },
          "metadata": {
            "tags": []
          }
        },
        {
          "output_type": "display_data",
          "data": {
            "image/png": "[encoded data removed]",
            "text/plain": [
              "<Figure size 576x396 with 1 Axes>"
            ]
          },
          "metadata": {
            "tags": []
          }
        },
        {
          "output_type": "stream",
          "text": [
            "Epoch:  1  running_loss:  0.005203737999972952 validation_loss:  0.004833529607910744\n",
            "Epoch:  2  running_loss:  0.005132250317126891 validation_loss:  0.005444081874594185\n",
            "Epoch:  3  running_loss:  0.0052104106433324615 validation_loss:  0.005372100070053952\n",
            "Epoch:  4  running_loss:  0.005189649649668346 validation_loss:  0.005380125835930097\n",
            "Epoch:  5  running_loss:  0.005178773663095615 validation_loss:  0.005575270557341221\n",
            "Epoch:  6  running_loss:  0.005091568216867902 validation_loss:  0.004874211403426481\n",
            "Epoch:  7  running_loss:  0.005173350660749242 validation_loss:  0.0048186656924976866\n",
            "Epoch:  8  running_loss:  0.005176045345464256 validation_loss:  0.00487462669176032\n",
            "Epoch:  9  running_loss:  0.00515452545104653 validation_loss:  0.005319991622208438\n",
            "Epoch:  10  running_loss:  0.005163328642942573 validation_loss:  0.005164216611703104\n",
            "Epoch:  11  running_loss:  0.005083201032322005 validation_loss:  0.004997151142537088\n",
            "Epoch:  12  running_loss:  0.005055873322895387 validation_loss:  0.004896743661720635\n",
            "Epoch:  13  running_loss:  0.005154832984882219 validation_loss:  0.004797142691703775\n",
            "Epoch:  14  running_loss:  0.005119496237935319 validation_loss:  0.004806343075794463\n",
            "Epoch:  15  running_loss:  0.00513533167037357 validation_loss:  0.004905779618151892\n",
            "Epoch:  16  running_loss:  0.005188881980357486 validation_loss:  0.0050733255774383255\n",
            "Epoch:  17  running_loss:  0.005115000977471761 validation_loss:  0.0050604790327074154\n",
            "Epoch:  18  running_loss:  0.0051362883992920345 validation_loss:  0.004751778585292718\n",
            "Epoch:  19  running_loss:  0.00512081943656191 validation_loss:  0.004940920158284342\n",
            "Epoch:  20  running_loss:  0.005122661677217893 validation_loss:  0.004891637343873698\n",
            "Epoch:  21  running_loss:  0.005115617386601959 validation_loss:  0.005018076811624715\n",
            "Epoch:  22  running_loss:  0.005128837055869264 validation_loss:  0.004817125294593674\n",
            "Epoch:  23  running_loss:  0.005110529248843453 validation_loss:  0.005472743375192286\n",
            "Epoch:  24  running_loss:  0.005240852529529276 validation_loss:  0.004870888043204569\n",
            "Epoch:  25  running_loss:  0.00532784022848652 validation_loss:  0.005012455709796346\n"
          ],
          "name": "stdout"
        },
        {
          "output_type": "display_data",
          "data": {
            "image/png": "[encoded data removed]",
            "text/plain": [
              "<Figure size 576x396 with 1 Axes>"
            ]
          },
          "metadata": {
            "tags": []
          }
        },
        {
          "output_type": "display_data",
          "data": {
            "image/png": "[encoded data removed]",
            "text/plain": [
              "<Figure size 576x396 with 1 Axes>"
            ]
          },
          "metadata": {
            "tags": []
          }
        },
        {
          "output_type": "display_data",
          "data": {
            "image/png": "[encoded data removed]",
            "text/plain": [
              "<Figure size 576x396 with 1 Axes>"
            ]
          },
          "metadata": {
            "tags": []
          }
        },
        {
          "output_type": "stream",
          "text": [
            "Epoch:  26  running_loss:  0.005203831838719966 validation_loss:  0.005359356887688957\n",
            "Epoch:  27  running_loss:  0.005146068404669609 validation_loss:  0.0051285163148864915\n",
            "Epoch:  28  running_loss:  0.005084440504358736 validation_loss:  0.005303428204502429\n",
            "Epoch:  29  running_loss:  0.005197754231774022 validation_loss:  0.005055359815884383\n",
            "Epoch:  30  running_loss:  0.005111070025369861 validation_loss:  0.00526804064393661\n",
            "Epoch:  31  running_loss:  0.005115768203585846 validation_loss:  0.005122777745612831\n",
            "Epoch:  32  running_loss:  0.00530509987370189 validation_loss:  0.005080141256844758\n",
            "Epoch:  33  running_loss:  0.005139602358833997 validation_loss:  0.005034568550365739\n",
            "Epoch:  34  running_loss:  0.005083127880303062 validation_loss:  0.005262829803216805\n",
            "Epoch:  35  running_loss:  0.005214123465774597 validation_loss:  0.004819857329758951\n",
            "Epoch:  36  running_loss:  0.005098095263609564 validation_loss:  0.00496361809436901\n",
            "Epoch:  37  running_loss:  0.005137056809391074 validation_loss:  0.004930139485436079\n",
            "Epoch:  38  running_loss:  0.005106608119767811 validation_loss:  0.004876418188679201\n",
            "Epoch:  39  running_loss:  0.005201729875022961 validation_loss:  0.005170844314692085\n",
            "Epoch:  40  running_loss:  0.005189583862343803 validation_loss:  0.005281034289137344\n",
            "Epoch:  41  running_loss:  0.005197613268628041 validation_loss:  0.005316766138786142\n",
            "Epoch:  42  running_loss:  0.005093170379675746 validation_loss:  0.005188133352352825\n",
            "Epoch:  43  running_loss:  0.005154423402361744 validation_loss:  0.005112957262537639\n",
            "Epoch:  44  running_loss:  0.005218064633332241 validation_loss:  0.004734628012805467\n",
            "Epoch:  45  running_loss:  0.0050839048340637774 validation_loss:  0.005149885710547616\n",
            "Epoch:  46  running_loss:  0.0052039545153527945 validation_loss:  0.004740256887855982\n",
            "Epoch:  47  running_loss:  0.00515185511641722 validation_loss:  0.005213011437276229\n",
            "Epoch:  48  running_loss:  0.0052964033381620096 validation_loss:  0.0056116827000442585\n",
            "Epoch:  49  running_loss:  0.0051382030089336195 validation_loss:  0.005203262659014545\n",
            "Epoch:  50  running_loss:  0.005110400954292121 validation_loss:  0.004948311614477796\n"
          ],
          "name": "stdout"
        },
        {
          "output_type": "display_data",
          "data": {
            "image/png": "[encoded data removed]",
            "text/plain": [
              "<Figure size 576x396 with 1 Axes>"
            ]
          },
          "metadata": {
            "tags": []
          }
        },
        {
          "output_type": "display_data",
          "data": {
            "image/png": "[encoded data removed]",
            "text/plain": [
              "<Figure size 576x396 with 1 Axes>"
            ]
          },
          "metadata": {
            "tags": []
          }
        },
        {
          "output_type": "display_data",
          "data": {
            "image/png": "[encoded data removed]",
            "text/plain": [
              "<Figure size 576x396 with 1 Axes>"
            ]
          },
          "metadata": {
            "tags": []
          }
        },
        {
          "output_type": "stream",
          "text": [
            "Epoch:  51  running_loss:  0.00520148163014181 validation_loss:  0.005220311515525595\n",
            "Epoch:  52  running_loss:  0.005117761464978368 validation_loss:  0.004959445830019062\n",
            "Epoch:  53  running_loss:  0.005054045583240709 validation_loss:  0.005065733546355965\n",
            "Epoch:  54  running_loss:  0.005140614787399897 validation_loss:  0.005174155836567022\n",
            "Epoch:  55  running_loss:  0.005119300556432828 validation_loss:  0.00523435056226675\n",
            "Epoch:  56  running_loss:  0.005196428964187359 validation_loss:  0.005030212068249003\n",
            "Epoch:  57  running_loss:  0.005124323758405227 validation_loss:  0.005011797767683832\n",
            "Epoch:  58  running_loss:  0.005158267872730346 validation_loss:  0.0048786011151600575\n",
            "Epoch:  59  running_loss:  0.005107628989101749 validation_loss:  0.005176346291524323\n",
            "Epoch:  60  running_loss:  0.005154356615696422 validation_loss:  0.00520818530615103\n",
            "Epoch:  61  running_loss:  0.0052039563145141 validation_loss:  0.004812328480940417\n",
            "Epoch:  62  running_loss:  0.005199989423659929 validation_loss:  0.005189296419112184\n",
            "Epoch:  63  running_loss:  0.005058752925501539 validation_loss:  0.005159207190208112\n",
            "Epoch:  64  running_loss:  0.005191823862144878 validation_loss:  0.005122886214997049\n",
            "Epoch:  65  running_loss:  0.0050849170694735515 validation_loss:  0.005515515540817617\n",
            "Epoch:  66  running_loss:  0.005143239307417932 validation_loss:  0.004982195075519203\n",
            "Epoch:  67  running_loss:  0.005128647381382808 validation_loss:  0.00500041964827856\n",
            "Epoch:  68  running_loss:  0.0051358429043614935 validation_loss:  0.005048097806010798\n",
            "Epoch:  69  running_loss:  0.005111305428689067 validation_loss:  0.005150052208994961\n",
            "Epoch:  70  running_loss:  0.005127573017997028 validation_loss:  0.006014748180702\n",
            "Epoch:  71  running_loss:  0.005129267876693788 validation_loss:  0.005006431889661394\n",
            "Epoch:  72  running_loss:  0.005086760936340439 validation_loss:  0.004775451048146868\n",
            "Epoch:  73  running_loss:  0.005113802062496009 validation_loss:  0.004673019440017818\n",
            "Epoch:  74  running_loss:  0.005144827739777523 validation_loss:  0.0052713486689897684\n",
            "Epoch:  75  running_loss:  0.005270478966286561 validation_loss:  0.0048964214384486495\n"
          ],
          "name": "stdout"
        },
        {
          "output_type": "display_data",
          "data": {
            "image/png": "[encoded data removed]",
            "text/plain": [
              "<Figure size 576x396 with 1 Axes>"
            ]
          },
          "metadata": {
            "tags": []
          }
        },
        {
          "output_type": "display_data",
          "data": {
            "image/png": "[encoded data removed]",
            "text/plain": [
              "<Figure size 576x396 with 1 Axes>"
            ]
          },
          "metadata": {
            "tags": []
          }
        },
        {
          "output_type": "display_data",
          "data": {
            "image/png": "[encoded data removed]",
            "text/plain": [
              "<Figure size 576x396 with 1 Axes>"
            ]
          },
          "metadata": {
            "tags": []
          }
        },
        {
          "output_type": "stream",
          "text": [
            "Epoch:  76  running_loss:  0.005108248289713356 validation_loss:  0.005307397593850579\n",
            "Epoch:  77  running_loss:  0.0051732621482786945 validation_loss:  0.0049409732502065686\n",
            "Epoch:  78  running_loss:  0.005122084430981976 validation_loss:  0.004788594179669187\n",
            "Epoch:  79  running_loss:  0.005126274843743914 validation_loss:  0.00522328772483378\n"
          ],
          "name": "stdout"
        },
        {
          "output_type": "error",
          "ename": "KeyboardInterrupt",
          "evalue": "ignored",
          "traceback": [
            "\u001b[0;31m---------------------------------------------------------------------------\u001b[0m",
            "\u001b[0;31mKeyboardInterrupt\u001b[0m                         Traceback (most recent call last)",
            "\u001b[0;32m<ipython-input-107-b469eb55a504>\u001b[0m in \u001b[0;36m<module>\u001b[0;34m()\u001b[0m\n\u001b[1;32m     23\u001b[0m         \u001b[0mloss\u001b[0m\u001b[0;34m.\u001b[0m\u001b[0mbackward\u001b[0m\u001b[0;34m(\u001b[0m\u001b[0;34m)\u001b[0m\u001b[0;34m\u001b[0m\u001b[0;34m\u001b[0m\u001b[0m\n\u001b[1;32m     24\u001b[0m         \u001b[0moptimizer\u001b[0m\u001b[0;34m.\u001b[0m\u001b[0mstep\u001b[0m\u001b[0;34m(\u001b[0m\u001b[0;34m)\u001b[0m\u001b[0;34m\u001b[0m\u001b[0;34m\u001b[0m\u001b[0m\n\u001b[0;32m---> 25\u001b[0;31m         \u001b[0mrunning_loss\u001b[0m \u001b[0;34m+=\u001b[0m \u001b[0mloss\u001b[0m\u001b[0;34m.\u001b[0m\u001b[0mitem\u001b[0m\u001b[0;34m(\u001b[0m\u001b[0;34m)\u001b[0m\u001b[0;34m\u001b[0m\u001b[0;34m\u001b[0m\u001b[0m\n\u001b[0m\u001b[1;32m     26\u001b[0m     \u001b[0;32mfor\u001b[0m \u001b[0mi\u001b[0m\u001b[0;34m,\u001b[0m \u001b[0mdat\u001b[0m \u001b[0;32min\u001b[0m \u001b[0menumerate\u001b[0m\u001b[0;34m(\u001b[0m\u001b[0;34m(\u001b[0m\u001b[0mtest_loader\u001b[0m\u001b[0;34m)\u001b[0m\u001b[0;34m,\u001b[0m \u001b[0;36m0\u001b[0m\u001b[0;34m)\u001b[0m\u001b[0;34m:\u001b[0m\u001b[0;34m\u001b[0m\u001b[0;34m\u001b[0m\u001b[0m\n\u001b[1;32m     27\u001b[0m         \u001b[0minputs\u001b[0m\u001b[0;34m,\u001b[0m \u001b[0mlabels\u001b[0m \u001b[0;34m=\u001b[0m \u001b[0mdat\u001b[0m\u001b[0;34m\u001b[0m\u001b[0;34m\u001b[0m\u001b[0m\n",
            "\u001b[0;31mKeyboardInterrupt\u001b[0m: "
          ]
        }
      ]
    },
    {
      "cell_type": "code",
      "metadata": {
        "id": "-iFGBE-vvXDH",
        "colab_type": "code",
        "colab": {}
      },
      "source": [
        "from google.colab import files\n",
        "torch.save(net.state_dict(),'weights.pth')\n",
        "files.download('weights.pth')"
      ],
      "execution_count": 0,
      "outputs": []
    },
    {
      "cell_type": "code",
      "metadata": {
        "id": "CQKcj88R7CYD",
        "colab_type": "code",
        "colab": {}
      },
      "source": [
        "net.load_state_dict(torch.load(\"weights.pth\"))"
      ],
      "execution_count": 0,
      "outputs": []
    },
    {
      "cell_type": "code",
      "metadata": {
        "id": "jp1yS5E4UVB6",
        "colab_type": "code",
        "colab": {}
      },
      "source": [
        "train_losses = np.asarray(train_losses)\n",
        "val_losses = np.asarray(val_losses)\n",
        "np.savetxt('train.txt', train_losses, delimiter = '\\t')\n",
        "np.savetxt('val.txt', val_losses, delimiter = '\\t')\n",
        "from google.colab import files\n",
        "files.download('train.txt')\n",
        "files.download('val.txt')"
      ],
      "execution_count": 0,
      "outputs": []
    }
  ]
}